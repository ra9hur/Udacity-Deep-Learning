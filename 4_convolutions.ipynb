{
 "cells": [
  {
   "cell_type": "markdown",
   "metadata": {
    "colab_type": "text",
    "id": "4embtkV0pNxM"
   },
   "source": [
    "Deep Learning\n",
    "=============\n",
    "\n",
    "Assignment 4\n",
    "------------\n",
    "\n",
    "Previously in `2_fullyconnected.ipynb` and `3_regularization.ipynb`, we trained fully connected networks to classify [notMNIST](http://yaroslavvb.blogspot.com/2011/09/notmnist-dataset.html) characters.\n",
    "\n",
    "The goal of this assignment is make the neural network convolutional."
   ]
  },
  {
   "cell_type": "code",
   "execution_count": 1,
   "metadata": {
    "cellView": "both",
    "colab": {
     "autoexec": {
      "startup": false,
      "wait_interval": 0
     }
    },
    "colab_type": "code",
    "collapsed": true,
    "id": "tm2CQN_Cpwj0"
   },
   "outputs": [],
   "source": [
    "# These are all the modules we'll be using later. Make sure you can import them\n",
    "# before proceeding further.\n",
    "from __future__ import print_function\n",
    "import numpy as np\n",
    "import tensorflow as tf\n",
    "from six.moves import cPickle as pickle\n",
    "from six.moves import range\n"
   ]
  },
  {
   "cell_type": "code",
   "execution_count": 2,
   "metadata": {
    "cellView": "both",
    "colab": {
     "autoexec": {
      "startup": false,
      "wait_interval": 0
     },
     "output_extras": [
      {
       "item_id": 1
      }
     ]
    },
    "colab_type": "code",
    "collapsed": false,
    "executionInfo": {
     "elapsed": 11948,
     "status": "ok",
     "timestamp": 1446658914837,
     "user": {
      "color": "",
      "displayName": "",
      "isAnonymous": false,
      "isMe": true,
      "permissionId": "",
      "photoUrl": "",
      "sessionId": "0",
      "userId": ""
     },
     "user_tz": 480
    },
    "id": "y3-cj1bpmuxc",
    "outputId": "016b1a51-0290-4b08-efdb-8c95ffc3cd01"
   },
   "outputs": [
    {
     "name": "stdout",
     "output_type": "stream",
     "text": [
      "Training set (200000, 28, 28) (200000,)\n",
      "Validation set (10000, 28, 28) (10000,)\n",
      "Test set (10000, 28, 28) (10000,)\n"
     ]
    }
   ],
   "source": [
    "pickle_file = 'notMNIST.pickle'\n",
    "\n",
    "with open(pickle_file, 'rb') as f:\n",
    "  save = pickle.load(f)\n",
    "  train_dataset = save['train_dataset']\n",
    "  train_labels = save['train_labels']\n",
    "  valid_dataset = save['valid_dataset']\n",
    "  valid_labels = save['valid_labels']\n",
    "  test_dataset = save['test_dataset']\n",
    "  test_labels = save['test_labels']\n",
    "  del save  # hint to help gc free up memory\n",
    "  print('Training set', train_dataset.shape, train_labels.shape)\n",
    "  print('Validation set', valid_dataset.shape, valid_labels.shape)\n",
    "  print('Test set', test_dataset.shape, test_labels.shape)\n"
   ]
  },
  {
   "cell_type": "markdown",
   "metadata": {
    "colab_type": "text",
    "id": "L7aHrm6nGDMB"
   },
   "source": [
    "Reformat into a TensorFlow-friendly shape:\n",
    "- convolutions need the image data formatted as a cube (width by height by #channels)\n",
    "- labels as float 1-hot encodings."
   ]
  },
  {
   "cell_type": "code",
   "execution_count": 3,
   "metadata": {
    "cellView": "both",
    "colab": {
     "autoexec": {
      "startup": false,
      "wait_interval": 0
     },
     "output_extras": [
      {
       "item_id": 1
      }
     ]
    },
    "colab_type": "code",
    "collapsed": false,
    "executionInfo": {
     "elapsed": 11952,
     "status": "ok",
     "timestamp": 1446658914857,
     "user": {
      "color": "",
      "displayName": "",
      "isAnonymous": false,
      "isMe": true,
      "permissionId": "",
      "photoUrl": "",
      "sessionId": "0",
      "userId": ""
     },
     "user_tz": 480
    },
    "id": "IRSyYiIIGIzS",
    "outputId": "650a208c-8359-4852-f4f5-8bf10e80ef6c"
   },
   "outputs": [
    {
     "name": "stdout",
     "output_type": "stream",
     "text": [
      "Training set (200000, 28, 28, 1) (200000, 10)\n",
      "Validation set (10000, 28, 28, 1) (10000, 10)\n",
      "Test set (10000, 28, 28, 1) (10000, 10)\n"
     ]
    }
   ],
   "source": [
    "image_size = 28\n",
    "num_labels = 10\n",
    "num_channels = 1 # grayscale\n",
    "\n",
    "import numpy as np\n",
    "\n",
    "def reformat(dataset, labels):\n",
    "  dataset = dataset.reshape(\n",
    "    (-1, image_size, image_size, num_channels)).astype(np.float32)\n",
    "  labels = (np.arange(num_labels) == labels[:,None]).astype(np.float32)\n",
    "  return dataset, labels\n",
    "train_dataset, train_labels = reformat(train_dataset, train_labels)\n",
    "valid_dataset, valid_labels = reformat(valid_dataset, valid_labels)\n",
    "test_dataset, test_labels = reformat(test_dataset, test_labels)\n",
    "print('Training set', train_dataset.shape, train_labels.shape)\n",
    "print('Validation set', valid_dataset.shape, valid_labels.shape)\n",
    "print('Test set', test_dataset.shape, test_labels.shape)\n"
   ]
  },
  {
   "cell_type": "code",
   "execution_count": 4,
   "metadata": {
    "cellView": "both",
    "colab": {
     "autoexec": {
      "startup": false,
      "wait_interval": 0
     }
    },
    "colab_type": "code",
    "collapsed": true,
    "id": "AgQDIREv02p1"
   },
   "outputs": [],
   "source": [
    "def accuracy(predictions, labels):\n",
    "  return (100.0 * np.sum(np.argmax(predictions, 1) == np.argmax(labels, 1)) / predictions.shape[0])\n"
   ]
  },
  {
   "cell_type": "markdown",
   "metadata": {
    "colab_type": "text",
    "id": "5rhgjmROXu2O"
   },
   "source": [
    "Let's build a small network with two convolutional layers, followed by one fully connected layer. Convolutional networks are more expensive computationally, so we'll limit its depth and number of fully connected nodes."
   ]
  },
  {
   "cell_type": "code",
   "execution_count": 5,
   "metadata": {
    "cellView": "both",
    "colab": {
     "autoexec": {
      "startup": false,
      "wait_interval": 0
     }
    },
    "colab_type": "code",
    "collapsed": true,
    "id": "IZYv70SvvOan"
   },
   "outputs": [],
   "source": [
    "batch_size = 16\n",
    "patch_size = 5\n",
    "depth = 16\n",
    "num_hidden = 64\n",
    "\n",
    "graph = tf.Graph()\n",
    "\n",
    "with graph.as_default():\n",
    "\n",
    "  # Input data.\n",
    "  tf_train_dataset = tf.placeholder(\n",
    "    tf.float32, shape=(batch_size, image_size, image_size, num_channels))\n",
    "  tf_train_labels = tf.placeholder(tf.float32, shape=(batch_size, num_labels))\n",
    "  tf_valid_dataset = tf.constant(valid_dataset)\n",
    "  tf_test_dataset = tf.constant(test_dataset)\n",
    "  \n",
    "  # Variables.\n",
    "  layer1_weights = tf.Variable(tf.truncated_normal(\n",
    "      [patch_size, patch_size, num_channels, depth], stddev=0.1))\n",
    "  layer1_biases = tf.Variable(tf.zeros([depth]))\n",
    "  layer2_weights = tf.Variable(tf.truncated_normal(\n",
    "      [patch_size, patch_size, depth, depth], stddev=0.1))\n",
    "  layer2_biases = tf.Variable(tf.constant(1.0, shape=[depth]))\n",
    "  layer3_weights = tf.Variable(tf.truncated_normal(\n",
    "      [image_size // 4 * image_size // 4 * depth, num_hidden], stddev=0.1))\n",
    "  layer3_biases = tf.Variable(tf.constant(1.0, shape=[num_hidden]))\n",
    "  layer4_weights = tf.Variable(tf.truncated_normal(\n",
    "      [num_hidden, num_labels], stddev=0.1))\n",
    "  layer4_biases = tf.Variable(tf.constant(1.0, shape=[num_labels]))\n",
    "  \n",
    "  # Model.\n",
    "  def model(data):\n",
    "    conv = tf.nn.conv2d(data, layer1_weights, [1, 2, 2, 1], padding='SAME')\n",
    "    hidden = tf.nn.relu(conv + layer1_biases)\n",
    "    conv = tf.nn.conv2d(hidden, layer2_weights, [1, 2, 2, 1], padding='SAME')\n",
    "    hidden = tf.nn.relu(conv + layer2_biases)\n",
    "    shape = hidden.get_shape().as_list()\n",
    "    reshape = tf.reshape(hidden, [shape[0], shape[1] * shape[2] * shape[3]])\n",
    "    hidden = tf.nn.relu(tf.matmul(reshape, layer3_weights) + layer3_biases)\n",
    "    return tf.matmul(hidden, layer4_weights) + layer4_biases\n",
    "  \n",
    "  # Training computation.\n",
    "  logits = model(tf_train_dataset)\n",
    "  loss = tf.reduce_mean(\n",
    "    tf.nn.softmax_cross_entropy_with_logits(labels=tf_train_labels, logits=logits))\n",
    "    \n",
    "  # Optimizer.\n",
    "  optimizer = tf.train.GradientDescentOptimizer(0.05).minimize(loss)\n",
    "  \n",
    "  # Predictions for the training, validation, and test data.\n",
    "  train_prediction = tf.nn.softmax(logits)\n",
    "  valid_prediction = tf.nn.softmax(model(tf_valid_dataset))\n",
    "  test_prediction = tf.nn.softmax(model(tf_test_dataset))\n"
   ]
  },
  {
   "cell_type": "code",
   "execution_count": 6,
   "metadata": {
    "cellView": "both",
    "colab": {
     "autoexec": {
      "startup": false,
      "wait_interval": 0
     },
     "output_extras": [
      {
       "item_id": 37
      }
     ]
    },
    "colab_type": "code",
    "collapsed": false,
    "executionInfo": {
     "elapsed": 63292,
     "status": "ok",
     "timestamp": 1446658966251,
     "user": {
      "color": "",
      "displayName": "",
      "isAnonymous": false,
      "isMe": true,
      "permissionId": "",
      "photoUrl": "",
      "sessionId": "0",
      "userId": ""
     },
     "user_tz": 480
    },
    "id": "noKFb2UovVFR",
    "outputId": "28941338-2ef9-4088-8bd1-44295661e628"
   },
   "outputs": [
    {
     "name": "stdout",
     "output_type": "stream",
     "text": [
      "Initialized\n",
      "Minibatch loss at step 0: 2.954511\n",
      "Minibatch accuracy: 12.5%\n",
      "Validation accuracy: 10.0%\n",
      "Minibatch loss at step 50: 1.581391\n",
      "Minibatch accuracy: 25.0%\n",
      "Validation accuracy: 53.1%\n",
      "Minibatch loss at step 100: 1.257633\n",
      "Minibatch accuracy: 50.0%\n",
      "Validation accuracy: 66.6%\n",
      "Minibatch loss at step 150: 0.844607\n",
      "Minibatch accuracy: 75.0%\n",
      "Validation accuracy: 77.7%\n",
      "Minibatch loss at step 200: 0.893772\n",
      "Minibatch accuracy: 75.0%\n",
      "Validation accuracy: 77.7%\n",
      "Minibatch loss at step 250: 0.655003\n",
      "Minibatch accuracy: 87.5%\n",
      "Validation accuracy: 78.0%\n",
      "Minibatch loss at step 300: 0.683066\n",
      "Minibatch accuracy: 75.0%\n",
      "Validation accuracy: 79.7%\n",
      "Minibatch loss at step 350: 0.446182\n",
      "Minibatch accuracy: 81.2%\n",
      "Validation accuracy: 80.3%\n",
      "Minibatch loss at step 400: 0.393321\n",
      "Minibatch accuracy: 93.8%\n",
      "Validation accuracy: 77.7%\n",
      "Minibatch loss at step 450: 0.786982\n",
      "Minibatch accuracy: 81.2%\n",
      "Validation accuracy: 79.7%\n",
      "Minibatch loss at step 500: 0.543800\n",
      "Minibatch accuracy: 87.5%\n",
      "Validation accuracy: 81.6%\n",
      "Minibatch loss at step 550: 0.513152\n",
      "Minibatch accuracy: 75.0%\n",
      "Validation accuracy: 81.3%\n",
      "Minibatch loss at step 600: 0.418469\n",
      "Minibatch accuracy: 93.8%\n",
      "Validation accuracy: 81.0%\n",
      "Minibatch loss at step 650: 1.237076\n",
      "Minibatch accuracy: 62.5%\n",
      "Validation accuracy: 81.7%\n",
      "Minibatch loss at step 700: 0.824846\n",
      "Minibatch accuracy: 68.8%\n",
      "Validation accuracy: 79.2%\n",
      "Minibatch loss at step 750: 0.571685\n",
      "Minibatch accuracy: 81.2%\n",
      "Validation accuracy: 82.3%\n",
      "Minibatch loss at step 800: 0.750940\n",
      "Minibatch accuracy: 75.0%\n",
      "Validation accuracy: 82.1%\n",
      "Minibatch loss at step 850: 0.966953\n",
      "Minibatch accuracy: 68.8%\n",
      "Validation accuracy: 82.8%\n",
      "Minibatch loss at step 900: 0.156857\n",
      "Minibatch accuracy: 100.0%\n",
      "Validation accuracy: 82.5%\n",
      "Minibatch loss at step 950: 0.148691\n",
      "Minibatch accuracy: 93.8%\n",
      "Validation accuracy: 83.3%\n",
      "Minibatch loss at step 1000: 0.904791\n",
      "Minibatch accuracy: 68.8%\n",
      "Validation accuracy: 81.2%\n",
      "Test accuracy: 87.7%\n"
     ]
    }
   ],
   "source": [
    "num_steps = 1001\n",
    "\n",
    "with tf.Session(graph=graph) as session:\n",
    "  tf.global_variables_initializer().run()\n",
    "  print('Initialized')\n",
    "  for step in range(num_steps):\n",
    "    offset = (step * batch_size) % (train_labels.shape[0] - batch_size)\n",
    "    batch_data = train_dataset[offset:(offset + batch_size), :, :, :]\n",
    "    batch_labels = train_labels[offset:(offset + batch_size), :]\n",
    "    feed_dict = {tf_train_dataset : batch_data, tf_train_labels : batch_labels}\n",
    "    _, l, predictions = session.run(\n",
    "      [optimizer, loss, train_prediction], feed_dict=feed_dict)\n",
    "    if (step % 50 == 0):\n",
    "      print('Minibatch loss at step %d: %f' % (step, l))\n",
    "      print('Minibatch accuracy: %.1f%%' % accuracy(predictions, batch_labels))\n",
    "      print('Validation accuracy: %.1f%%' % accuracy(\n",
    "        valid_prediction.eval(), valid_labels))\n",
    "  print('Test accuracy: %.1f%%' % accuracy(test_prediction.eval(), test_labels))\n"
   ]
  },
  {
   "cell_type": "markdown",
   "metadata": {
    "colab_type": "text",
    "id": "KedKkn4EutIK"
   },
   "source": [
    "---\n",
    "Problem 1\n",
    "---------\n",
    "\n",
    "The convolutional model above uses convolutions with stride 2 to reduce the dimensionality. Replace the strides by a max pooling operation (`nn.max_pool()`) of stride 2 and kernel size 2.\n",
    "\n",
    "---"
   ]
  },
  {
   "cell_type": "markdown",
   "metadata": {
    "colab_type": "text",
    "id": "klf21gpbAgb-"
   },
   "source": [
    "---\n",
    "Problem 2\n",
    "---------\n",
    "\n",
    "Try to get the best performance you can using a convolutional net. Look for example at the classic [LeNet5](http://yann.lecun.com/exdb/lenet/) architecture, adding Dropout, and/or adding learning rate decay.\n",
    "\n",
    "---"
   ]
  },
  {
   "cell_type": "code",
   "execution_count": 5,
   "metadata": {
    "collapsed": false
   },
   "outputs": [],
   "source": [
    "### Define your architecture here.\n",
    "\n",
    "# Hyper parameters\n",
    "batch_size = 128\n",
    "image_size = 28\n",
    "num_channels = 1\n",
    "input = image_size*image_size*num_channels\n",
    "patch_size = 3\n",
    "depth = 16\n",
    "f1_out = 1024\n",
    "f2_out = 512\n",
    "num_labels = 10\n",
    "wd_coeff = 0.0\n",
    "drop_out1 = 0.8\n",
    "drop_out2 = 0.5\n",
    "drop_out3 = 0.5\n",
    "initial_learning_rate = 1e-4\n",
    "\n",
    "f1_in = image_size // 4 * image_size // 4 * (depth * 2)\n",
    "#f1_in = 1568\n",
    "\n",
    "# Input data. For the training data, we use a placeholder that will be fed at run time with a training minibatch.\n",
    "tf_train_dataset = tf.placeholder(tf.float32, shape = (batch_size, image_size, image_size, num_channels))\n",
    "tf_train_labels = tf.placeholder(tf.float32, shape = (batch_size, num_labels))\n",
    "tf_valid_dataset = tf.constant(valid_dataset)\n",
    "tf_test_dataset = tf.constant(test_dataset)\n",
    "\n",
    "init_conv2d = tf.contrib.layers.xavier_initializer_conv2d(uniform=True, seed=None, dtype=tf.float32)\n",
    "init = tf.contrib.layers.xavier_initializer(uniform=True, seed=None, dtype=tf.float32)\n",
    "weights = {\n",
    "           'c1': tf.get_variable(\"c1\", shape=[patch_size, patch_size, num_channels, depth], initializer=init_conv2d),\n",
    "           'c2': tf.get_variable(\"c2\", shape=[patch_size, patch_size, depth, depth * 2], initializer=init_conv2d),\n",
    "#           'c3': tf.get_variable(\"c3\", shape=[patch_size, patch_size, depth * 2, depth * 4], initializer=init_conv2d),\n",
    "#           'c4': tf.get_variable(\"c4\", shape=[patch_size, patch_size, depth * 4, depth * 4], initializer=init_conv2d),\n",
    "           'f1': tf.get_variable(\"f1\", shape=[f1_in, f1_out], initializer=init),\n",
    "           'f2': tf.get_variable(\"f2\", shape=[f1_out, f2_out], initializer=init),\n",
    "           'out': tf.get_variable(\"out\", shape=[f2_out, num_labels], initializer=init)}\n",
    "\n",
    "bias = {\n",
    "          'c1': tf.Variable(tf.zeros([depth])),\n",
    "          'c2': tf.Variable(tf.zeros([depth*2])),\n",
    "#          'c3': tf.Variable(tf.zeros([depth*4])),\n",
    "#          'c4': tf.Variable(tf.zeros([depth*4])),\n",
    "          'f1': tf.Variable(tf.zeros([f1_out])),\n",
    "          'f2': tf.Variable(tf.zeros([f2_out])),\n",
    "          'out': tf.Variable(tf.zeros([num_labels]))}\n",
    "\n",
    "regularizers = (tf.nn.l2_loss(weights['c1']) + tf.nn.l2_loss(bias['c1']) +\n",
    "              tf.nn.l2_loss(weights['c2']) + tf.nn.l2_loss(bias['c2']) +\n",
    "#              tf.nn.l2_loss(weights['c3']) + tf.nn.l2_loss(bias['c3']) +\n",
    "#              tf.nn.l2_loss(weights['c4']) + tf.nn.l2_loss(bias['c4']) +\n",
    "              tf.nn.l2_loss(weights['f1']) + tf.nn.l2_loss(bias['f1']) +\n",
    "              tf.nn.l2_loss(weights['f2']) + tf.nn.l2_loss(bias['f2']) +\n",
    "              tf.nn.l2_loss(weights['out']) + tf.nn.l2_loss(bias['out']))\n",
    "\n",
    "keep_prob1 = tf.placeholder(tf.float32)\n",
    "keep_prob2 = tf.placeholder(tf.float32)\n",
    "keep_prob3 = tf.placeholder(tf.float32)\n"
   ]
  },
  {
   "cell_type": "code",
   "execution_count": 6,
   "metadata": {
    "collapsed": true
   },
   "outputs": [],
   "source": [
    "from tensorflow.contrib.layers import flatten\n",
    "\n",
    "def convolve(x, W, b, strides, pad):\n",
    "    # Conv2D wrapper, with bias and relu activation\n",
    "    x = tf.nn.conv2d(x, W, strides=[1, strides, strides, 1], padding=pad)\n",
    "    x = tf.nn.bias_add(x, b)\n",
    "    return tf.nn.relu(x)\n",
    "\n",
    "def Model(x, use_dropout=False):    \n",
    "                                          \n",
    "    # Layer 1: Convolutional. \n",
    "    conv1 = convolve(x, weights['c1'], bias['c1'], 2, 'SAME')\n",
    "    \n",
    "    # Layer 2: Convolutional. \n",
    "    conv2 = convolve(conv1, weights['c2'], bias['c2'], 1, 'SAME')\n",
    "    conv2= tf.nn.max_pool(conv2, ksize=[1,2,2,1], strides=[1,2,2,1], padding='SAME')\n",
    "\n",
    "    if use_dropout:\n",
    "        conv2 = tf.nn.dropout(conv2, keep_prob1)        \n",
    "    #conv2 = tf.nn.batch_normalization(conv2, mean=0.0, variance=1.0, offset=None, scale=None, variance_epsilon=0.001)\n",
    "\n",
    "    # Layer 3: Convolutional. \n",
    "#    conv3 = convolve(conv2, weights['c3'], bias['c3'], 1, 'SAME')\n",
    "\n",
    "    # Layer 4: Convolutional. \n",
    "#    conv4 = convolve(conv3, weights['c4'], bias['c4'], 1, 'SAME')\n",
    "#    conv4 = tf.nn.max_pool(conv4, ksize=[1,2,2,1], strides=[1,2,2,1], padding='SAME')\n",
    "    #conv4 = tf.nn.batch_normalization(conv4, mean=0.0, variance=1.0, offset=None, scale=None, variance_epsilon=0.001)    \n",
    "\n",
    "    # Flatten.\n",
    "    reshape = flatten(conv2)\n",
    "\n",
    "    # Layer 5: Fully Connected. \n",
    "    if use_dropout:\n",
    "        reshape = tf.nn.dropout(reshape, keep_prob1)    \n",
    "    h_layer1 = tf.matmul(reshape, weights['f1']) + bias['f1']\n",
    "    h_layer1 = tf.nn.relu(h_layer1)\n",
    "    #h_layer1 = tf.nn.batch_normalization(h_layer1, mean=0.0, variance=1.0, offset=None, scale=None, variance_epsilon=0.001)\n",
    "    \n",
    "    # Layer 6: Fully Connected. \n",
    "    if use_dropout:\n",
    "        h_layer1 = tf.nn.dropout(h_layer1, keep_prob2)\n",
    "    h_layer2 = tf.matmul(h_layer1, weights['f2']) + bias['f2']\n",
    "    h_layer2 = tf.nn.relu(h_layer2)\n",
    "    #h_layer2 = tf.nn.batch_normalization(h_layer2, mean=0.0, variance=1.0, offset=None, scale=None, variance_epsilon=0.001)\n",
    "    \n",
    "    # Layer 7: Fully Connected. \n",
    "    if use_dropout:\n",
    "        h_layer2 = tf.nn.dropout(h_layer2, keep_prob3)\n",
    "    logits = tf.matmul(h_layer2, weights['out']) + bias['out']\n",
    "\n",
    "    return logits\n"
   ]
  },
  {
   "cell_type": "code",
   "execution_count": 7,
   "metadata": {
    "collapsed": false
   },
   "outputs": [],
   "source": [
    "\n",
    "logits = Model(tf_train_dataset, True)\n",
    "\n",
    "classification_loss = tf.reduce_mean(tf.nn.softmax_cross_entropy_with_logits(logits, tf_train_labels))\n",
    "\n",
    "weightdecay_loss = wd_coeff * regularizers\n",
    "loss = classification_loss + weightdecay_loss\n",
    "    \n",
    "# Optimizer.\n",
    "global_step = tf.Variable(0)\n",
    "lr = tf.train.exponential_decay(initial_learning_rate, global_step, 3500, 0.98, staircase=True)\n",
    "optimizer = tf.train.AdamOptimizer(learning_rate = lr)\n",
    "#training_operation = optimizer.minimize(loss)\n",
    "training_operation = optimizer.minimize(loss, global_step=global_step)\n",
    "  \n",
    "# Predictions for the training, validation, and test data.\n",
    "train_prediction = tf.nn.softmax(logits)\n",
    "\n",
    "valid_logits = Model(tf_valid_dataset)\n",
    "valid_prediction = tf.nn.softmax(valid_logits)\n",
    "\n",
    "test_logits = Model(tf_test_dataset)\n",
    "test_prediction = tf.nn.softmax(test_logits)\n"
   ]
  },
  {
   "cell_type": "code",
   "execution_count": 10,
   "metadata": {
    "collapsed": false
   },
   "outputs": [
    {
     "name": "stdout",
     "output_type": "stream",
     "text": [
      "Initialized\n",
      "Minibatch loss at step 0: 2.288231\n",
      "Minibatch accuracy: 11.7%\n",
      "Validation accuracy: 10.5%\n",
      "Minibatch loss at step 2000: 0.449171\n",
      "Minibatch accuracy: 85.9%\n",
      "Validation accuracy: 87.2%\n",
      "Minibatch loss at step 4000: 0.625508\n",
      "Minibatch accuracy: 82.0%\n",
      "Validation accuracy: 88.9%\n",
      "Minibatch loss at step 6000: 0.350826\n",
      "Minibatch accuracy: 86.7%\n",
      "Validation accuracy: 90.2%\n",
      "Minibatch loss at step 8000: 0.299814\n",
      "Minibatch accuracy: 89.8%\n",
      "Validation accuracy: 90.7%\n",
      "Minibatch loss at step 10000: 0.306230\n",
      "Minibatch accuracy: 92.2%\n",
      "Validation accuracy: 91.1%\n",
      "Minibatch loss at step 12000: 0.443307\n",
      "Minibatch accuracy: 86.7%\n",
      "Validation accuracy: 91.5%\n",
      "Minibatch loss at step 14000: 0.157784\n",
      "Minibatch accuracy: 96.1%\n",
      "Validation accuracy: 91.6%\n",
      "Minibatch loss at step 16000: 0.318861\n",
      "Minibatch accuracy: 88.3%\n",
      "Validation accuracy: 91.8%\n",
      "Minibatch loss at step 18000: 0.391344\n",
      "Minibatch accuracy: 88.3%\n",
      "Validation accuracy: 92.1%\n",
      "Minibatch loss at step 20000: 0.242087\n",
      "Minibatch accuracy: 92.2%\n",
      "Validation accuracy: 92.1%\n",
      "Minibatch loss at step 22000: 0.312745\n",
      "Minibatch accuracy: 89.8%\n",
      "Validation accuracy: 92.3%\n",
      "Minibatch loss at step 24000: 0.249878\n",
      "Minibatch accuracy: 93.0%\n",
      "Validation accuracy: 92.3%\n",
      "Minibatch loss at step 26000: 0.203429\n",
      "Minibatch accuracy: 94.5%\n",
      "Validation accuracy: 92.4%\n",
      "Test accuracy: 97.3%\n"
     ]
    }
   ],
   "source": [
    "EPOCHS = 8\n",
    "num_steps = EPOCHS * 3500\n",
    "from sklearn.utils import shuffle\n",
    "\n",
    "with tf.Session() as session:\n",
    "  tf.global_variables_initializer().run()\n",
    "  print(\"Initialized\")\n",
    "  for step in range(num_steps):\n",
    "\n",
    "    if (step % 3500 == 0):\n",
    "        train_dataset, train_labels = shuffle(train_dataset, train_labels)\n",
    "    \n",
    "    # Pick an offset within the training data, which has been randomized.\n",
    "    # Note: we could use better randomization across epochs.\n",
    "    offset = (step * batch_size) % (train_labels.shape[0] - batch_size)\n",
    "    # Generate a minibatch.\n",
    "    batch_data = train_dataset[offset:(offset + batch_size), :]\n",
    "    batch_labels = train_labels[offset:(offset + batch_size), :]\n",
    "    # Prepare a dictionary telling the session where to feed the minibatch.\n",
    "    # The key of the dictionary is the placeholder node of the graph to be fed,\n",
    "    # and the value is the numpy array to feed to it.\n",
    "    feed_dict = {tf_train_dataset : batch_data, tf_train_labels : batch_labels, keep_prob1: drop_out1, keep_prob2: drop_out2, keep_prob3: drop_out3}\n",
    "\n",
    "    _, l, predictions = session.run([training_operation, loss, train_prediction], feed_dict=feed_dict)\n",
    "    \n",
    "    if (step % 2000 == 0):\n",
    "      print(\"Minibatch loss at step %d: %f\" % (step, l))\n",
    "      print(\"Minibatch accuracy: %.1f%%\" % accuracy(predictions, batch_labels))\n",
    "      print(\"Validation accuracy: %.1f%%\" % accuracy(valid_prediction.eval(), valid_labels))\n",
    "  print(\"Test accuracy: %.1f%%\" % accuracy(test_prediction.eval(), test_labels))\n"
   ]
  }
 ],
 "metadata": {
  "anaconda-cloud": {},
  "colab": {
   "default_view": {},
   "name": "4_convolutions.ipynb",
   "provenance": [],
   "version": "0.3.2",
   "views": {}
  },
  "kernelspec": {
   "display_name": "Python [default]",
   "language": "python",
   "name": "python3"
  },
  "language_info": {
   "codemirror_mode": {
    "name": "ipython",
    "version": 3
   },
   "file_extension": ".py",
   "mimetype": "text/x-python",
   "name": "python",
   "nbconvert_exporter": "python",
   "pygments_lexer": "ipython3",
   "version": "3.5.2"
  }
 },
 "nbformat": 4,
 "nbformat_minor": 0
}
